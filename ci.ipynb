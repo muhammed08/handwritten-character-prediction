{
  "nbformat": 4,
  "nbformat_minor": 0,
  "metadata": {
    "colab": {
      "name": "Untitled0.ipynb",
      "provenance": [],
      "collapsed_sections": []
    },
    "kernelspec": {
      "name": "python3",
      "display_name": "Python 3"
    }
  },
  "cells": [
    {
      "cell_type": "markdown",
      "metadata": {
        "id": "L0nZQYQ5WDEr",
        "colab_type": "text"
      },
      "source": [

        "Using Artificial Neural networks implement a classifier to recognize the characters in your name(handwritten). \n",
        "\n",
        "# Dataset:\n",
        "The dataset taken is emnist dataset which is openly available. It contain 28*28 pixel images of different latters mapped to corresponding characters. The train dataset contain 88799 rows along with 784 attributes in which each attributes have a value between 0 and 256. These values represent the pixel values of corresponding row. The link to dataset is :https://www.kaggle.com/crawford/emnist.\n",
        "\n",
        "\n",
        "The program is done with python in google colab. \n",
        "\n",
        "#Approach :\n",
        "First the dataset is taken and pre-processed. The two types of approach are taken. First the model is trained with a simple ANN with two layers. The prediction was low as expected. The data is the trained using a convolution network which provided a very good accuracy. The convolution network contain two convolution layers with 32 filters each of size (3,3). The activation function used in these two layers are relu. The output of this layer is then passed through a max pool layer of size (2,2). Finally, the output is flattened and passed through a dense layers.\n",
        "\n"
      ]
    },
    {
      "cell_type": "code",
      "metadata": {
        "id": "OXsBbUDSjLkQ",
        "colab_type": "code",
        "colab": {
          "base_uri": "https://localhost:8080/",
          "height": 83
        },
        "outputId": "6de26fec-7f68-41f4-bb38-a0e047f775b2"
      },
      "source": [
        "import numpy as np\n",
        "from tensorflow import keras\n",
        "from keras.models import Sequential\n",
        "from keras.layers import Dense, Flatten, Conv2D, Dropout, MaxPool2D, BatchNormalization\n",
        "from keras.optimizers import adam\n",
        "from matplotlib import pyplot as plt"
      ],
      "execution_count": 1,
      "outputs": [
        {
          "output_type": "display_data",
          "data": {
            "text/html": [
              "<p style=\"color: red;\">\n",
              "The default version of TensorFlow in Colab will soon switch to TensorFlow 2.x.<br>\n",
              "We recommend you <a href=\"https://www.tensorflow.org/guide/migrate\" target=\"_blank\">upgrade</a> now \n",
              "or ensure your notebook will continue to use TensorFlow 1.x via the <code>%tensorflow_version 1.x</code> magic:\n",
              "<a href=\"https://colab.research.google.com/notebooks/tensorflow_version.ipynb\" target=\"_blank\">more info</a>.</p>\n"
            ],
            "text/plain": [
              "<IPython.core.display.HTML object>"
            ]
          },
          "metadata": {
            "tags": []
          }
        },
        {
          "output_type": "stream",
          "text": [
            "Using TensorFlow backend.\n"
          ],
          "name": "stderr"
        }
      ]
    },
    {
      "cell_type": "markdown",
      "metadata": {
        "id": "cYc0PFAZa2zV",
        "colab_type": "text"
      },
      "source": [
        "Importing dataset (from google drive)"
      ]
    },
    {
      "cell_type": "code",
      "metadata": {
        "id": "4RBfGfUjmQyB",
        "colab_type": "code",
        "outputId": "28f93871-41ec-4f75-e1c8-347507919754",
        "colab": {
          "base_uri": "https://localhost:8080/",
          "height": 128
        }
      },
      "source": [
        "from google.colab import drive\n",
        "drive.mount('/content/drive')"
      ],
      "execution_count": 2,
      "outputs": [
        {
          "output_type": "stream",
          "text": [
            "Go to this URL in a browser: https://accounts.google.com/o/oauth2/auth?client_id=947318989803-6bn6qk8qdgf4n4g3pfee6491hc0brc4i.apps.googleusercontent.com&redirect_uri=urn%3aietf%3awg%3aoauth%3a2.0%3aoob&response_type=code&scope=email%20https%3a%2f%2fwww.googleapis.com%2fauth%2fdocs.test%20https%3a%2f%2fwww.googleapis.com%2fauth%2fdrive%20https%3a%2f%2fwww.googleapis.com%2fauth%2fdrive.photos.readonly%20https%3a%2f%2fwww.googleapis.com%2fauth%2fpeopleapi.readonly\n",
            "\n",
            "Enter your authorization code:\n",
            "··········\n",
            "Mounted at /content/drive\n"
          ],
          "name": "stdout"
        }
      ]
    },
    {
      "cell_type": "code",
      "metadata": {
        "id": "E3L4pXyjjUx5",
        "colab_type": "code",
        "colab": {}
      },
      "source": [
        "img_rows, img_cols = 28, 28\n",
        "\n",
        "# importing data\n",
        "letter_file = \"/content/drive/My Drive/input/emnist-letters-train.csv\"\n",
        "test_file = \"/content/drive/My Drive/input/emnist-letters-test.csv\"\n",
        "num_classes = 37\n",
        "classes = 'ABCDEFGHIJKLMNOPQRSTUVWXYZabdefghnqrt'"
      ],
      "execution_count": 0,
      "outputs": []
    },
    {
      "cell_type": "markdown",
      "metadata": {
        "id": "dGSeQDO9bCmW",
        "colab_type": "text"
      },
      "source": [
        "Function required for preprocessing"
      ]
    },
    {
      "cell_type": "code",
      "metadata": {
        "id": "5pEwaLqPjaTm",
        "colab_type": "code",
        "colab": {}
      },
      "source": [
        "def prep_data(raw):\n",
        "    y = raw[:, 0]\n",
        "    out_y = keras.utils.to_categorical(y, num_classes)\n",
        "\n",
        "    x = raw[:, 1:]\n",
        "    num_images = raw.shape[0]\n",
        "    out_x = x.reshape(num_images, img_rows, img_cols, 1)\n",
        "    out_x = out_x / 255\n",
        "    return out_x, out_y"
      ],
      "execution_count": 0,
      "outputs": []
    },
    {
      "cell_type": "code",
      "metadata": {
        "id": "fLkpkzYujc2J",
        "colab_type": "code",
        "colab": {}
      },
      "source": [
        "def decode_label(binary_encoded_label):\n",
        "    return np.argmax(binary_encoded_label)-1"
      ],
      "execution_count": 0,
      "outputs": []
    },
    {
      "cell_type": "code",
      "metadata": {
        "id": "q3nN6fX7jffc",
        "colab_type": "code",
        "colab": {}
      },
      "source": [
        "def show_img(img,label):\n",
        "    img_flip = np.transpose(img, axes=[1,0])\n",
        "    plt.title('Label: ' + str(classes[decode_label(label)]))\n",
        "    plt.imshow(img_flip, cmap='Greys_r')"
      ],
      "execution_count": 0,
      "outputs": []
    },
    {
      "cell_type": "code",
      "metadata": {
        "id": "wixRD2m1jhps",
        "colab_type": "code",
        "colab": {}
      },
      "source": [
        "def eval_model(model,test_x,test_y):\n",
        "    result = model.evaluate(test_x, test_y)\n",
        "    print(\"The accuracy of the model is: \",result[1])\n",
        "    return result"
      ],
      "execution_count": 0,
      "outputs": []
    },
    {
      "cell_type": "code",
      "metadata": {
        "id": "C2P1T_2Ijmtr",
        "colab_type": "code",
        "colab": {}
      },
      "source": [
        "letter_data = np.loadtxt(letter_file, skiprows=1, delimiter=',')\n",
        "x, y = prep_data(letter_data)"
      ],
      "execution_count": 0,
      "outputs": []
    },
    {
      "cell_type": "code",
      "metadata": {
        "id": "IRVuchq6jpmJ",
        "colab_type": "code",
        "outputId": "2c109b0b-3653-43f2-cf70-9561e6cc2cae",
        "colab": {
          "base_uri": "https://localhost:8080/",
          "height": 35
        }
      },
      "source": [
        "x.shape"
      ],
      "execution_count": 9,
      "outputs": [
        {
          "output_type": "execute_result",
          "data": {
            "text/plain": [
              "(88799, 28, 28, 1)"
            ]
          },
          "metadata": {
            "tags": []
          },
          "execution_count": 9
        }
      ]
    },
    {
      "cell_type": "code",
      "metadata": {
        "id": "1cAC5JHDnvdN",
        "colab_type": "code",
        "outputId": "c7ae9504-3974-4b00-dd94-944c45b54eba",
        "colab": {
          "base_uri": "https://localhost:8080/",
          "height": 35
        }
      },
      "source": [
        "y.shape"
      ],
      "execution_count": 10,
      "outputs": [
        {
          "output_type": "execute_result",
          "data": {
            "text/plain": [
              "(88799, 37)"
            ]
          },
          "metadata": {
            "tags": []
          },
          "execution_count": 10
        }
      ]
    },
    {
      "cell_type": "code",
      "metadata": {
        "id": "QQ3SqInknwyu",
        "colab_type": "code",
        "outputId": "b536ba68-cf7c-47f0-fa1d-75b1ded7b76a",
        "colab": {
          "base_uri": "https://localhost:8080/",
          "height": 292
        }
      },
      "source": [
        "fig = plt.figure(figsize=(17,4.5))\n",
        "for idx in range(30):\n",
        "    fig.add_subplot(3,10,idx+1)\n",
        "    plt.axis('off')\n",
        "    show_img(np.squeeze(x[idx]),y[idx])\n",
        "plt.subplots_adjust(wspace=0.3, hspace=0.3)"
      ],
      "execution_count": 11,
      "outputs": [
        {
          "output_type": "display_data",
          "data": {
            "image/png": "[encoded data removed]",
            "text/plain": [
              "<Figure size 1224x324 with 30 Axes>"
            ]
          },
          "metadata": {
            "tags": []
          }
        }
      ]
    },
    {
      "cell_type": "code",
      "metadata": {
        "id": "qhT8jbNnvNyc",
        "colab_type": "code",
        "colab": {}
      },
      "source": [
        "def prep_data_simple(raw):\n",
        "    y = raw[:, 0]\n",
        "    out_y = keras.utils.to_categorical(y, num_classes)\n",
        "    x = raw[:, 1:]\n",
        "    x = x / 255\n",
        "    return x, out_y"
      ],
      "execution_count": 0,
      "outputs": []
    },
    {
      "cell_type": "markdown",
      "metadata": {
        "id": "FBrEunFThUEW",
        "colab_type": "text"
      },
      "source": [
        "Simple ANN Model"
      ]
    },
    {
      "cell_type": "code",
      "metadata": {
        "id": "VB5sbk6fvuBP",
        "colab_type": "code",
        "outputId": "5c650c60-5300-4804-91fe-1b4785fda492",
        "colab": {
          "base_uri": "https://localhost:8080/",
          "height": 35
        }
      },
      "source": [
        "simple_letter_data = np.loadtxt(letter_file, skiprows=1, delimiter=',')\n",
        "Sx, Sy = prep_data_simple(simple_letter_data)\n",
        "Sx.shape\n",
        "Sy.shape"
      ],
      "execution_count": 13,
      "outputs": [
        {
          "output_type": "execute_result",
          "data": {
            "text/plain": [
              "(88799, 37)"
            ]
          },
          "metadata": {
            "tags": []
          },
          "execution_count": 13
        }
      ]
    },
    {
      "cell_type": "code",
      "metadata": {
        "id": "pr7gEdi6wHzR",
        "colab_type": "code",
        "outputId": "27f8e2f5-d387-42ec-e5fe-a2aaccd1031d",
        "colab": {
          "base_uri": "https://localhost:8080/",
          "height": 35
        }
      },
      "source": [
        "simple_test_data = np.loadtxt(test_file, skiprows=1, delimiter=',')\n",
        "S_test_x, S_test_y = prep_data_simple(simple_test_data)\n",
        "S_test_y.shape\n",
        "S_test_x.shape"
      ],
      "execution_count": 14,
      "outputs": [
        {
          "output_type": "execute_result",
          "data": {
            "text/plain": [
              "(14799, 784)"
            ]
          },
          "metadata": {
            "tags": []
          },
          "execution_count": 14
        }
      ]
    },
    {
      "cell_type": "code",
      "metadata": {
        "id": "5R_DvE34Mz74",
        "colab_type": "code",
        "colab": {}
      },
      "source": [
        "def simplemodel():\n",
        "  model = Sequential()\n",
        "  model.add(Dense(500,input_shape=(784,)))\n",
        "  model.add(Dense(500,activation ='relu'))\n",
        "  model.add(Dense(37,activation = 'softmax'))\n",
        "  model.compile (adam(lr = .1), loss = 'categorical_crossentropy',metrics = ['accuracy'])\n",
        "  model.summary()\n",
        "  return model"
      ],
      "execution_count": 0,
      "outputs": []
    },
    {
      "cell_type": "code",
      "metadata": {
        "id": "B_-qw_MRwpsl",
        "colab_type": "code",
        "outputId": "4c99e086-e899-4309-8c00-b826641ca2bd",
        "colab": {
          "base_uri": "https://localhost:8080/",
          "height": 1000
        }
      },
      "source": [
        "s_model = simplemodel()\n",
        "s_model.fit(Sx,Sy,epochs = 10,validation_split = .1)"
      ],
      "execution_count": 16,
      "outputs": [
        {
          "output_type": "stream",
          "text": [
            "WARNING:tensorflow:From /usr/local/lib/python3.6/dist-packages/keras/backend/tensorflow_backend.py:66: The name tf.get_default_graph is deprecated. Please use tf.compat.v1.get_default_graph instead.\n",
            "\n",
            "WARNING:tensorflow:From /usr/local/lib/python3.6/dist-packages/keras/backend/tensorflow_backend.py:541: The name tf.placeholder is deprecated. Please use tf.compat.v1.placeholder instead.\n",
            "\n",
            "WARNING:tensorflow:From /usr/local/lib/python3.6/dist-packages/keras/backend/tensorflow_backend.py:4432: The name tf.random_uniform is deprecated. Please use tf.random.uniform instead.\n",
            "\n",
            "WARNING:tensorflow:From /usr/local/lib/python3.6/dist-packages/keras/optimizers.py:793: The name tf.train.Optimizer is deprecated. Please use tf.compat.v1.train.Optimizer instead.\n",
            "\n",
            "WARNING:tensorflow:From /usr/local/lib/python3.6/dist-packages/keras/backend/tensorflow_backend.py:3576: The name tf.log is deprecated. Please use tf.math.log instead.\n",
            "\n",
            "Model: \"sequential_1\"\n",
            "_________________________________________________________________\n",
            "Layer (type)                 Output Shape              Param #   \n",
            "=================================================================\n",
            "dense_1 (Dense)              (None, 500)               392500    \n",
            "_________________________________________________________________\n",
            "dense_2 (Dense)              (None, 500)               250500    \n",
            "_________________________________________________________________\n",
            "dense_3 (Dense)              (None, 37)                18537     \n",
            "=================================================================\n",
            "Total params: 661,537\n",
            "Trainable params: 661,537\n",
            "Non-trainable params: 0\n",
            "_________________________________________________________________\n",
            "WARNING:tensorflow:From /usr/local/lib/python3.6/dist-packages/tensorflow_core/python/ops/math_grad.py:1424: where (from tensorflow.python.ops.array_ops) is deprecated and will be removed in a future version.\n",
            "Instructions for updating:\n",
            "Use tf.where in 2.0, which has the same broadcast rule as np.where\n",
            "WARNING:tensorflow:From /usr/local/lib/python3.6/dist-packages/keras/backend/tensorflow_backend.py:1033: The name tf.assign_add is deprecated. Please use tf.compat.v1.assign_add instead.\n",
            "\n",
            "WARNING:tensorflow:From /usr/local/lib/python3.6/dist-packages/keras/backend/tensorflow_backend.py:1020: The name tf.assign is deprecated. Please use tf.compat.v1.assign instead.\n",
            "\n",
            "WARNING:tensorflow:From /usr/local/lib/python3.6/dist-packages/keras/backend/tensorflow_backend.py:3005: The name tf.Session is deprecated. Please use tf.compat.v1.Session instead.\n",
            "\n",
            "Train on 79919 samples, validate on 8880 samples\n",
            "Epoch 1/10\n",
            "WARNING:tensorflow:From /usr/local/lib/python3.6/dist-packages/keras/backend/tensorflow_backend.py:190: The name tf.get_default_session is deprecated. Please use tf.compat.v1.get_default_session instead.\n",
            "\n",
            "WARNING:tensorflow:From /usr/local/lib/python3.6/dist-packages/keras/backend/tensorflow_backend.py:197: The name tf.ConfigProto is deprecated. Please use tf.compat.v1.ConfigProto instead.\n",
            "\n",
            "WARNING:tensorflow:From /usr/local/lib/python3.6/dist-packages/keras/backend/tensorflow_backend.py:207: The name tf.global_variables is deprecated. Please use tf.compat.v1.global_variables instead.\n",
            "\n",
            "WARNING:tensorflow:From /usr/local/lib/python3.6/dist-packages/keras/backend/tensorflow_backend.py:216: The name tf.is_variable_initialized is deprecated. Please use tf.compat.v1.is_variable_initialized instead.\n",
            "\n",
            "WARNING:tensorflow:From /usr/local/lib/python3.6/dist-packages/keras/backend/tensorflow_backend.py:223: The name tf.variables_initializer is deprecated. Please use tf.compat.v1.variables_initializer instead.\n",
            "\n",
            "79919/79919 [==============================] - 32s 404us/step - loss: 15.4956 - acc: 0.0383 - val_loss: 15.4447 - val_acc: 0.0418\n",
            "Epoch 2/10\n",
            "79919/79919 [==============================] - 31s 387us/step - loss: 15.4999 - acc: 0.0384 - val_loss: 15.4447 - val_acc: 0.0418\n",
            "Epoch 3/10\n",
            "79919/79919 [==============================] - 30s 378us/step - loss: 15.4999 - acc: 0.0384 - val_loss: 15.4447 - val_acc: 0.0418\n",
            "Epoch 4/10\n",
            "79919/79919 [==============================] - 30s 378us/step - loss: 15.4999 - acc: 0.0384 - val_loss: 15.4447 - val_acc: 0.0418\n",
            "Epoch 5/10\n",
            "79919/79919 [==============================] - 31s 382us/step - loss: 15.4999 - acc: 0.0384 - val_loss: 15.4447 - val_acc: 0.0418\n",
            "Epoch 6/10\n",
            "79919/79919 [==============================] - 31s 384us/step - loss: 15.4999 - acc: 0.0384 - val_loss: 15.4447 - val_acc: 0.0418\n",
            "Epoch 7/10\n",
            "79919/79919 [==============================] - 31s 385us/step - loss: 15.4999 - acc: 0.0384 - val_loss: 15.4447 - val_acc: 0.0418\n",
            "Epoch 8/10\n",
            "79919/79919 [==============================] - 31s 382us/step - loss: 15.4999 - acc: 0.0384 - val_loss: 15.4447 - val_acc: 0.0418\n",
            "Epoch 9/10\n",
            "79919/79919 [==============================] - 31s 383us/step - loss: 15.4999 - acc: 0.0384 - val_loss: 15.4447 - val_acc: 0.0418\n",
            "Epoch 10/10\n",
            "79919/79919 [==============================] - 31s 392us/step - loss: 15.4999 - acc: 0.0384 - val_loss: 15.4447 - val_acc: 0.0418\n"
          ],
          "name": "stdout"
        },
        {
          "output_type": "execute_result",
          "data": {
            "text/plain": [
              "<keras.callbacks.History at 0x7f0058ae7cf8>"
            ]
          },
          "metadata": {
            "tags": []
          },
          "execution_count": 16
        }
      ]
    },
    {
      "cell_type": "markdown",
      "metadata": {
        "id": "_SKS3Ci0u1AF",
        "colab_type": "text"
      },
      "source": [
        "The validation accuracy itself is very low. There is no point in testing it"
      ]
    },
    {
      "cell_type": "markdown",
      "metadata": {
        "id": "SO_v4akxhYiN",
        "colab_type": "text"
      },
      "source": [
        "A complex CNN Model"
      ]
    },
    {
      "cell_type": "code",
      "metadata": {
        "id": "i3lIbN0Sn8Js",
        "colab_type": "code",
        "colab": {}
      },
      "source": [
        "test_data = np.loadtxt(test_file, skiprows=1, delimiter=',')\n",
        "test_x, test_y = prep_data(test_data)"
      ],
      "execution_count": 0,
      "outputs": []
    },
    {
      "cell_type": "code",
      "metadata": {
        "id": "uFqUdN-woBPa",
        "colab_type": "code",
        "outputId": "e16bf29c-63d0-4bb8-9670-09ca35261089",
        "colab": {
          "base_uri": "https://localhost:8080/",
          "height": 35
        }
      },
      "source": [
        "test_x.shape\n",
        "test_y.shape"
      ],
      "execution_count": 19,
      "outputs": [
        {
          "output_type": "execute_result",
          "data": {
            "text/plain": [
              "(14799, 37)"
            ]
          },
          "metadata": {
            "tags": []
          },
          "execution_count": 19
        }
      ]
    },
    {
      "cell_type": "markdown",
      "metadata": {
        "id": "hOdZpJGjuYCX",
        "colab_type": "text"
      },
      "source": [
        "Creating Model with two convolution layer and two max pool layers"
      ]
    },
    {
      "cell_type": "code",
      "metadata": {
        "id": "W3jSwJN9oIN_",
        "colab_type": "code",
        "colab": {}
      },
      "source": [
        "model = Sequential()\n",
        "model.add(Conv2D(32, kernel_size=(3, 3), strides=1,activation='relu'))\n",
        "model.add(MaxPool2D(pool_size=(3,3)))\n",
        "model.add(Conv2D(32, (3, 3), activation='relu', strides=1))\n",
        "model.add(MaxPool2D(pool_size=(2,2)))\n",
        "model.add(Flatten())\n",
        "model.add(Dense(128, activation='relu'))\n",
        "model.add(Dense(num_classes, activation='softmax'))\n",
        "\n",
        "model.compile(loss=keras.losses.categorical_crossentropy,\n",
        "                  optimizer='adam',\n",
        "                  metrics=['accuracy'])"
      ],
      "execution_count": 0,
      "outputs": []
    },
    {
      "cell_type": "markdown",
      "metadata": {
        "id": "Kveh_apJuhC_",
        "colab_type": "text"
      },
      "source": [
        "Training Model"
      ]
    },
    {
      "cell_type": "code",
      "metadata": {
        "id": "unXG9kXVoacQ",
        "colab_type": "code",
        "outputId": "fd5c71f9-11f8-437e-cd07-851b9a9a8c80",
        "colab": {
          "base_uri": "https://localhost:8080/",
          "height": 455
        }
      },
      "source": [
        "batch_size = 128\n",
        "basic_history = model.fit(x, y,\n",
        "          batch_size = batch_size,\n",
        "          epochs = 10,\n",
        "          validation_split = 0.2)"
      ],
      "execution_count": 21,
      "outputs": [
        {
          "output_type": "stream",
          "text": [
            "WARNING:tensorflow:From /usr/local/lib/python3.6/dist-packages/keras/backend/tensorflow_backend.py:4267: The name tf.nn.max_pool is deprecated. Please use tf.nn.max_pool2d instead.\n",
            "\n",
            "Train on 71039 samples, validate on 17760 samples\n",
            "Epoch 1/10\n",
            "71039/71039 [==============================] - 116s 2ms/step - loss: 0.6582 - acc: 0.8008 - val_loss: 0.3680 - val_acc: 0.8848\n",
            "Epoch 2/10\n",
            "71039/71039 [==============================] - 116s 2ms/step - loss: 0.3006 - acc: 0.9022 - val_loss: 0.2914 - val_acc: 0.9096\n",
            "Epoch 3/10\n",
            "71039/71039 [==============================] - 115s 2ms/step - loss: 0.2304 - acc: 0.9229 - val_loss: 0.2880 - val_acc: 0.9101\n",
            "Epoch 4/10\n",
            "71039/71039 [==============================] - 115s 2ms/step - loss: 0.1907 - acc: 0.9337 - val_loss: 0.2771 - val_acc: 0.9136\n",
            "Epoch 5/10\n",
            "71039/71039 [==============================] - 115s 2ms/step - loss: 0.1591 - acc: 0.9437 - val_loss: 0.2786 - val_acc: 0.9172\n",
            "Epoch 6/10\n",
            "71039/71039 [==============================] - 115s 2ms/step - loss: 0.1331 - acc: 0.9515 - val_loss: 0.2863 - val_acc: 0.9169\n",
            "Epoch 7/10\n",
            "71039/71039 [==============================] - 115s 2ms/step - loss: 0.1146 - acc: 0.9569 - val_loss: 0.2865 - val_acc: 0.9204\n",
            "Epoch 8/10\n",
            "71039/71039 [==============================] - 115s 2ms/step - loss: 0.0983 - acc: 0.9628 - val_loss: 0.3038 - val_acc: 0.9204\n",
            "Epoch 9/10\n",
            "71039/71039 [==============================] - 115s 2ms/step - loss: 0.0852 - acc: 0.9661 - val_loss: 0.3206 - val_acc: 0.9170\n",
            "Epoch 10/10\n",
            "71039/71039 [==============================] - 115s 2ms/step - loss: 0.0763 - acc: 0.9686 - val_loss: 0.3607 - val_acc: 0.9157\n"
          ],
          "name": "stdout"
        }
      ]
    },
    {
      "cell_type": "code",
      "metadata": {
        "id": "3T0UFwEroeBv",
        "colab_type": "code",
        "outputId": "a7b83804-a028-45c6-8e26-ed9ee2a99379",
        "colab": {
          "base_uri": "https://localhost:8080/",
          "height": 72
        }
      },
      "source": [
        "eval_model(model,test_x,test_y)"
      ],
      "execution_count": 22,
      "outputs": [
        {
          "output_type": "stream",
          "text": [
            "14799/14799 [==============================] - 6s 389us/step\n",
            "The accuracy of the model is:  0.9006013919899726\n"
          ],
          "name": "stdout"
        },
        {
          "output_type": "execute_result",
          "data": {
            "text/plain": [
              "[0.401874802375065, 0.9006013919899726]"
            ]
          },
          "metadata": {
            "tags": []
          },
          "execution_count": 22
        }
      ]
    },
    {
      "cell_type": "markdown",
      "metadata": {
        "id": "maUE5e4Eupeg",
        "colab_type": "text"
      },
      "source": [
        "Taking Characters in my name"
      ]
    },
    {
      "cell_type": "code",
      "metadata": {
        "id": "-BD-ywKpVPmT",
        "colab_type": "code",
        "colab": {
          "base_uri": "https://localhost:8080/",
          "height": 90
        },
        "outputId": "07c9030f-79f1-4a91-fd6c-dd69f46da413"
      },
      "source": [
        "my_chars = ['A','M','E','N']\n",
        "my_index = []\n",
        "i=0\n",
        "while(len(my_chars)>0 ):\n",
        "  label = test_y[i]\n",
        "  if str(classes[decode_label(label)]) in my_chars:\n",
        "    print(i)\n",
        "    my_index.append(i)\n",
        "    my_chars.remove(str(classes[decode_label(label)]))\n",
        "  i+=1"
      ],
      "execution_count": 27,
      "outputs": [
        {
          "output_type": "stream",
          "text": [
            "0\n",
            "3199\n",
            "9599\n",
            "10399\n"
          ],
          "name": "stdout"
        }
      ]
    },
    {
      "cell_type": "code",
      "metadata": {
        "id": "oZajr7zYqGBV",
        "colab_type": "code",
        "colab": {
          "base_uri": "https://localhost:8080/",
          "height": 115
        },
        "outputId": "272b33c5-7f73-4ea8-ddcd-b36681621ab4"
      },
      "source": [
        "y_pred = []\n",
        "fig = plt.figure(figsize=(17,4.5))\n",
        "i=0\n",
        "for index in my_index:\n",
        "  sample_x= test_x[index:index+1,]\n",
        "  y_pred.append( model.predict(sample_x))\n",
        "  fig.add_subplot(3,10,i+1)\n",
        "  plt.axis('off')\n",
        "  show_img(np.squeeze(test_x[index]),test_y[index])\n",
        "  i+=1\n",
        "plt.subplots_adjust(wspace=0.3, hspace=0.3)\n",
        "\n"
      ],
      "execution_count": 35,
      "outputs": [
        {
          "output_type": "display_data",
          "data": {
            "image/png": "[encoded data removed]",
            "text/plain": [
              "<Figure size 1224x324 with 4 Axes>"
            ]
          },
          "metadata": {
            "tags": []
          }
        }
      ]
    }
  ]
}
